{
 "cells": [
  {
   "cell_type": "markdown",
   "id": "2edce5bf",
   "metadata": {},
   "source": [
    "# NB01 - Data Collection\n",
    "**Author:** Thea West\n",
    "\n",
    "**Description:**\n",
    "\n",
    "*insert short description of the notebook here*\n"
   ]
  },
  {
   "cell_type": "markdown",
   "id": "8751c648",
   "metadata": {},
   "source": [
    "## Imports"
   ]
  },
  {
   "cell_type": "code",
   "execution_count": 2,
   "id": "15cd1e62",
   "metadata": {},
   "outputs": [],
   "source": [
    "import pandas as pd\n",
    "import requests\n",
    "import json"
   ]
  },
  {
   "cell_type": "markdown",
   "id": "052f9ec7",
   "metadata": {},
   "source": [
    "## Data Collection"
   ]
  },
  {
   "cell_type": "markdown",
   "id": "4f6972e4",
   "metadata": {},
   "source": [
    "I will compare London to four other capital cities in the general geographic area: Dublin, Paris, Brussels, and Amsterdam. All of these cities are within about 350 miles of London and have a relatively similar climate. As far as I am aware, these cities do not have the same reputation for rain as London.\n",
    "\n",
    "I will compare the raininess of these cities for the year 2024 as this is recent data which spans all seasons throughout the year. \n",
    "\n",
    "I will use rain sum (millimeters of rain in a day) and precipitation hours (number of hours it rained in a day). These two measurements will account for two possible measures of raininess: actual volume of rainfall and amount of time it rains. I will compare both with the other cities to see if London is truly ranier. If it is only rainier by one measurement, that may point to how the general public percieves raininess and, by extension, how London got its reputation."
   ]
  },
  {
   "cell_type": "markdown",
   "id": "1dfa491d",
   "metadata": {},
   "source": [
    "Start by setting the paramaters for which data to fetch for each city:"
   ]
  },
  {
   "cell_type": "code",
   "execution_count": 3,
   "id": "b0ce6461",
   "metadata": {},
   "outputs": [],
   "source": [
    "url_endpoint = \"https://archive-api.open-meteo.com/v1/archive\"\n",
    "london_params = {\n",
    "    \"latitude\": 51.5085,\n",
    "    \"longitude\": -0.1257,\n",
    "\t\"start_date\": \"2024-01-01\",\n",
    "\t\"end_date\": \"2024-12-31\",\n",
    "\t\"daily\": \"rain_sum,precipitation_hours\",\n",
    "    \"timezone\": \"Europe/London\"\n",
    "}\n",
    "paris_params = {\n",
    "    \"latitude\": 48.8534,\n",
    "    \"longitude\": 2.3488,\n",
    "\t\"start_date\": \"2024-01-01\",\n",
    "\t\"end_date\": \"2024-12-31\",\n",
    "\t\"daily\": \"rain_sum,precipitation_hours\", \n",
    "    \"timezone\": \"Europe/Berlin\"\n",
    "}\n",
    "brussels_params = {\n",
    "    \"latitude\": 50.8505,\n",
    "    \"longitude\": 4.3488,\n",
    "\t\"start_date\": \"2024-01-01\",\n",
    "\t\"end_date\": \"2024-12-31\",\n",
    "\t\"daily\": \"rain_sum,precipitation_hours\", \n",
    "    \"timezone\": \"Europe/Berlin\"\n",
    "}\n",
    "amsterdam_params = {\n",
    "    \"latitude\": 52.374,\n",
    "    \"longitude\": 4.8897,\n",
    "\t\"start_date\": \"2024-01-01\",\n",
    "\t\"end_date\": \"2024-12-31\",\n",
    "\t\"daily\": \"rain_sum,precipitation_hours\", \n",
    "    \"timezone\": \"Europe/Berlin\"\n",
    "}\n",
    "dublin_params = {\n",
    "    \"latitude\": 53.3331,\n",
    "    \"longitude\": -6.2489,\n",
    "\t\"start_date\": \"2024-01-01\",\n",
    "\t\"end_date\": \"2024-12-31\",\n",
    "\t\"daily\": \"rain_sum,precipitation_hours\", \n",
    "    \"timezone\": \"Europe/London\"\n",
    "}"
   ]
  },
  {
   "cell_type": "markdown",
   "id": "86bc1f00",
   "metadata": {},
   "source": [
    "Fetch the data and check if it was successful:"
   ]
  },
  {
   "cell_type": "code",
   "execution_count": 4,
   "id": "25de2a4d",
   "metadata": {},
   "outputs": [
    {
     "name": "stdout",
     "output_type": "stream",
     "text": [
      "London: Success\n",
      "Paris: Success\n",
      "Brussels: Success\n",
      "Amsterdam: Success\n",
      "Dublin: Success\n"
     ]
    }
   ],
   "source": [
    "response_london = requests.get(url_endpoint, params=london_params)\n",
    "response_paris = requests.get(url_endpoint, params=paris_params)\n",
    "response_brussels = requests.get(url_endpoint, params=brussels_params)\n",
    "response_amsterdam = requests.get(url_endpoint, params=amsterdam_params)\n",
    "response_dublin = requests.get(url_endpoint, params=dublin_params)\n",
    "\n",
    "cities = [[\"London\", response_london], [\"Paris\", response_paris], [\"Brussels\", response_brussels], [\"Amsterdam\", response_amsterdam], [\"Dublin\", response_dublin]]\n",
    "for city in cities:\n",
    "    if city[1].status_code == 200:\n",
    "        print(f\"{city[0]}: Success\")\n",
    "    else:\n",
    "        print(f\"{city[0]}: Failure! Status code: {city[1].status_code}\")"
   ]
  },
  {
   "cell_type": "markdown",
   "id": "ea0775aa",
   "metadata": {},
   "source": [
    "Store the raw data responses as a jsons:"
   ]
  },
  {
   "cell_type": "code",
   "execution_count": 5,
   "id": "fa3a1594",
   "metadata": {},
   "outputs": [],
   "source": [
    "raw_data_london = response_london.json()\n",
    "raw_data_paris = response_paris.json()\n",
    "raw_data_brussels = response_brussels.json()\n",
    "raw_data_amsterdam = response_amsterdam.json()\n",
    "raw_data_dublin = response_dublin.json()"
   ]
  },
  {
   "cell_type": "markdown",
   "id": "11cd07f1",
   "metadata": {},
   "source": [
    "## Convert to Pandas Dataframe and Clean"
   ]
  },
  {
   "cell_type": "markdown",
   "id": "2180cc76",
   "metadata": {},
   "source": [
    "Convert each json to a pandas dataframe:"
   ]
  },
  {
   "cell_type": "code",
   "execution_count": 6,
   "id": "f8e4652d",
   "metadata": {},
   "outputs": [],
   "source": [
    "df_london = pd.DataFrame(raw_data_london['daily'])\n",
    "df_paris = pd.DataFrame(raw_data_paris['daily'])\n",
    "df_brussels = pd.DataFrame(raw_data_brussels['daily'])\n",
    "df_amsterdam = pd.DataFrame(raw_data_amsterdam['daily'])\n",
    "df_dublin = pd.DataFrame(raw_data_dublin['daily'])"
   ]
  },
  {
   "cell_type": "markdown",
   "id": "093f7bc6",
   "metadata": {},
   "source": [
    "Add a column to each dataframe specifying the city:"
   ]
  },
  {
   "cell_type": "code",
   "execution_count": 7,
   "id": "07f326df",
   "metadata": {},
   "outputs": [],
   "source": [
    "df_london['city'] = \"london\"\n",
    "df_paris['city'] = \"paris\"\n",
    "df_brussels['city'] = \"brussels\"\n",
    "df_amsterdam['city'] = \"amsterdam\"\n",
    "df_dublin['city'] = \"dublin\""
   ]
  },
  {
   "cell_type": "markdown",
   "id": "e60b8a72",
   "metadata": {},
   "source": [
    "Combine the dataframes into one and reset the index:"
   ]
  },
  {
   "cell_type": "code",
   "execution_count": 8,
   "id": "96680d19",
   "metadata": {},
   "outputs": [],
   "source": [
    "df = pd.concat([df_london, df_paris, df_brussels, df_amsterdam, df_dublin]).reset_index(drop=True)"
   ]
  },
  {
   "cell_type": "markdown",
   "id": "f94d1f43",
   "metadata": {},
   "source": [
    "Change the items in the `time` column to datetime objects:"
   ]
  },
  {
   "cell_type": "code",
   "execution_count": 9,
   "id": "1ca00f41",
   "metadata": {},
   "outputs": [],
   "source": [
    "df['time'] = pd.to_datetime(df['time'], format='ISO8601')"
   ]
  },
  {
   "cell_type": "markdown",
   "id": "5b88fe78",
   "metadata": {},
   "source": [
    "## Save Dataframe as a CSV"
   ]
  },
  {
   "cell_type": "markdown",
   "id": "f5481e3f",
   "metadata": {},
   "source": [
    "The os library is used to save the csv to the data folder.\n",
    "\n",
    "```python\n",
    "os.makedirs(\"data\", exist_ok = True)\n",
    "```\n",
    "This line creates the data folder. The 'exist_ok=True' makes it so that if the folder already exists it will be used instead of throwing an error.\n",
    "\n",
    "\n",
    "```python\n",
    "csv_path = os.path.join(\"data\", \"rain_data_2024.csv\")\n",
    "```\n",
    "This line concatenates the \"data\" folder name with the file name. The csv_path is now `data` > `rain_data_2024.csv`"
   ]
  },
  {
   "cell_type": "code",
   "execution_count": 16,
   "id": "7f9b3fae",
   "metadata": {},
   "outputs": [
    {
     "name": "stdout",
     "output_type": "stream",
     "text": [
      "Clean data saved to data/rain_data_2024.csv\n"
     ]
    }
   ],
   "source": [
    "import os\n",
    "\n",
    "os.makedirs(\"data\", exist_ok = True)\n",
    "\n",
    "csv_path = os.path.join(\"data\", \"rain_data_2024.csv\")\n",
    "df.to_csv(csv_path, index=True)\n",
    "print(f\"Clean data saved to {csv_path}\")"
   ]
  },
  {
   "cell_type": "code",
   "execution_count": null,
   "id": "7076c311",
   "metadata": {},
   "outputs": [
    {
     "ename": "OSError",
     "evalue": "Cannot save file into a non-existent directory: 'me204-2025-midterm-theaw3275'",
     "output_type": "error",
     "traceback": [
      "\u001b[31m---------------------------------------------------------------------------\u001b[39m",
      "\u001b[31mOSError\u001b[39m                                   Traceback (most recent call last)",
      "\u001b[36mCell\u001b[39m\u001b[36m \u001b[39m\u001b[32mIn[13]\u001b[39m\u001b[32m, line 2\u001b[39m\n\u001b[32m      1\u001b[39m csv_path = \u001b[33m'\u001b[39m\u001b[33mme204-2025-midterm-theaw3275/data\u001b[39m\u001b[33m'\u001b[39m\n\u001b[32m----> \u001b[39m\u001b[32m2\u001b[39m \u001b[43mdf\u001b[49m\u001b[43m.\u001b[49m\u001b[43mto_csv\u001b[49m\u001b[43m(\u001b[49m\u001b[43mcsv_path\u001b[49m\u001b[43m \u001b[49m\u001b[43m+\u001b[49m\u001b[43m \u001b[49m\u001b[33;43m\"\u001b[39;49m\u001b[33;43mrain_data_2024.csv\u001b[39;49m\u001b[33;43m\"\u001b[39;49m\u001b[43m,\u001b[49m\u001b[43m \u001b[49m\u001b[43mindex\u001b[49m\u001b[43m=\u001b[49m\u001b[38;5;28;43;01mTrue\u001b[39;49;00m\u001b[43m)\u001b[49m\n\u001b[32m      3\u001b[39m \u001b[38;5;28mprint\u001b[39m(\u001b[33mf\u001b[39m\u001b[33m\"\u001b[39m\u001b[33mClean data saved to \u001b[39m\u001b[38;5;132;01m{\u001b[39;00mcsv_path\u001b[38;5;132;01m}\u001b[39;00m\u001b[33m\"\u001b[39m)\n",
      "\u001b[36mFile \u001b[39m\u001b[32m/opt/conda/lib/python3.12/site-packages/pandas/util/_decorators.py:333\u001b[39m, in \u001b[36mdeprecate_nonkeyword_arguments.<locals>.decorate.<locals>.wrapper\u001b[39m\u001b[34m(*args, **kwargs)\u001b[39m\n\u001b[32m    327\u001b[39m \u001b[38;5;28;01mif\u001b[39;00m \u001b[38;5;28mlen\u001b[39m(args) > num_allow_args:\n\u001b[32m    328\u001b[39m     warnings.warn(\n\u001b[32m    329\u001b[39m         msg.format(arguments=_format_argument_list(allow_args)),\n\u001b[32m    330\u001b[39m         \u001b[38;5;167;01mFutureWarning\u001b[39;00m,\n\u001b[32m    331\u001b[39m         stacklevel=find_stack_level(),\n\u001b[32m    332\u001b[39m     )\n\u001b[32m--> \u001b[39m\u001b[32m333\u001b[39m \u001b[38;5;28;01mreturn\u001b[39;00m \u001b[43mfunc\u001b[49m\u001b[43m(\u001b[49m\u001b[43m*\u001b[49m\u001b[43margs\u001b[49m\u001b[43m,\u001b[49m\u001b[43m \u001b[49m\u001b[43m*\u001b[49m\u001b[43m*\u001b[49m\u001b[43mkwargs\u001b[49m\u001b[43m)\u001b[49m\n",
      "\u001b[36mFile \u001b[39m\u001b[32m/opt/conda/lib/python3.12/site-packages/pandas/core/generic.py:3967\u001b[39m, in \u001b[36mNDFrame.to_csv\u001b[39m\u001b[34m(self, path_or_buf, sep, na_rep, float_format, columns, header, index, index_label, mode, encoding, compression, quoting, quotechar, lineterminator, chunksize, date_format, doublequote, escapechar, decimal, errors, storage_options)\u001b[39m\n\u001b[32m   3956\u001b[39m df = \u001b[38;5;28mself\u001b[39m \u001b[38;5;28;01mif\u001b[39;00m \u001b[38;5;28misinstance\u001b[39m(\u001b[38;5;28mself\u001b[39m, ABCDataFrame) \u001b[38;5;28;01melse\u001b[39;00m \u001b[38;5;28mself\u001b[39m.to_frame()\n\u001b[32m   3958\u001b[39m formatter = DataFrameFormatter(\n\u001b[32m   3959\u001b[39m     frame=df,\n\u001b[32m   3960\u001b[39m     header=header,\n\u001b[32m   (...)\u001b[39m\u001b[32m   3964\u001b[39m     decimal=decimal,\n\u001b[32m   3965\u001b[39m )\n\u001b[32m-> \u001b[39m\u001b[32m3967\u001b[39m \u001b[38;5;28;01mreturn\u001b[39;00m \u001b[43mDataFrameRenderer\u001b[49m\u001b[43m(\u001b[49m\u001b[43mformatter\u001b[49m\u001b[43m)\u001b[49m\u001b[43m.\u001b[49m\u001b[43mto_csv\u001b[49m\u001b[43m(\u001b[49m\n\u001b[32m   3968\u001b[39m \u001b[43m    \u001b[49m\u001b[43mpath_or_buf\u001b[49m\u001b[43m,\u001b[49m\n\u001b[32m   3969\u001b[39m \u001b[43m    \u001b[49m\u001b[43mlineterminator\u001b[49m\u001b[43m=\u001b[49m\u001b[43mlineterminator\u001b[49m\u001b[43m,\u001b[49m\n\u001b[32m   3970\u001b[39m \u001b[43m    \u001b[49m\u001b[43msep\u001b[49m\u001b[43m=\u001b[49m\u001b[43msep\u001b[49m\u001b[43m,\u001b[49m\n\u001b[32m   3971\u001b[39m \u001b[43m    \u001b[49m\u001b[43mencoding\u001b[49m\u001b[43m=\u001b[49m\u001b[43mencoding\u001b[49m\u001b[43m,\u001b[49m\n\u001b[32m   3972\u001b[39m \u001b[43m    \u001b[49m\u001b[43merrors\u001b[49m\u001b[43m=\u001b[49m\u001b[43merrors\u001b[49m\u001b[43m,\u001b[49m\n\u001b[32m   3973\u001b[39m \u001b[43m    \u001b[49m\u001b[43mcompression\u001b[49m\u001b[43m=\u001b[49m\u001b[43mcompression\u001b[49m\u001b[43m,\u001b[49m\n\u001b[32m   3974\u001b[39m \u001b[43m    \u001b[49m\u001b[43mquoting\u001b[49m\u001b[43m=\u001b[49m\u001b[43mquoting\u001b[49m\u001b[43m,\u001b[49m\n\u001b[32m   3975\u001b[39m \u001b[43m    \u001b[49m\u001b[43mcolumns\u001b[49m\u001b[43m=\u001b[49m\u001b[43mcolumns\u001b[49m\u001b[43m,\u001b[49m\n\u001b[32m   3976\u001b[39m \u001b[43m    \u001b[49m\u001b[43mindex_label\u001b[49m\u001b[43m=\u001b[49m\u001b[43mindex_label\u001b[49m\u001b[43m,\u001b[49m\n\u001b[32m   3977\u001b[39m \u001b[43m    \u001b[49m\u001b[43mmode\u001b[49m\u001b[43m=\u001b[49m\u001b[43mmode\u001b[49m\u001b[43m,\u001b[49m\n\u001b[32m   3978\u001b[39m \u001b[43m    \u001b[49m\u001b[43mchunksize\u001b[49m\u001b[43m=\u001b[49m\u001b[43mchunksize\u001b[49m\u001b[43m,\u001b[49m\n\u001b[32m   3979\u001b[39m \u001b[43m    \u001b[49m\u001b[43mquotechar\u001b[49m\u001b[43m=\u001b[49m\u001b[43mquotechar\u001b[49m\u001b[43m,\u001b[49m\n\u001b[32m   3980\u001b[39m \u001b[43m    \u001b[49m\u001b[43mdate_format\u001b[49m\u001b[43m=\u001b[49m\u001b[43mdate_format\u001b[49m\u001b[43m,\u001b[49m\n\u001b[32m   3981\u001b[39m \u001b[43m    \u001b[49m\u001b[43mdoublequote\u001b[49m\u001b[43m=\u001b[49m\u001b[43mdoublequote\u001b[49m\u001b[43m,\u001b[49m\n\u001b[32m   3982\u001b[39m \u001b[43m    \u001b[49m\u001b[43mescapechar\u001b[49m\u001b[43m=\u001b[49m\u001b[43mescapechar\u001b[49m\u001b[43m,\u001b[49m\n\u001b[32m   3983\u001b[39m \u001b[43m    \u001b[49m\u001b[43mstorage_options\u001b[49m\u001b[43m=\u001b[49m\u001b[43mstorage_options\u001b[49m\u001b[43m,\u001b[49m\n\u001b[32m   3984\u001b[39m \u001b[43m\u001b[49m\u001b[43m)\u001b[49m\n",
      "\u001b[36mFile \u001b[39m\u001b[32m/opt/conda/lib/python3.12/site-packages/pandas/io/formats/format.py:1014\u001b[39m, in \u001b[36mDataFrameRenderer.to_csv\u001b[39m\u001b[34m(self, path_or_buf, encoding, sep, columns, index_label, mode, compression, quoting, quotechar, lineterminator, chunksize, date_format, doublequote, escapechar, errors, storage_options)\u001b[39m\n\u001b[32m    993\u001b[39m     created_buffer = \u001b[38;5;28;01mFalse\u001b[39;00m\n\u001b[32m    995\u001b[39m csv_formatter = CSVFormatter(\n\u001b[32m    996\u001b[39m     path_or_buf=path_or_buf,\n\u001b[32m    997\u001b[39m     lineterminator=lineterminator,\n\u001b[32m   (...)\u001b[39m\u001b[32m   1012\u001b[39m     formatter=\u001b[38;5;28mself\u001b[39m.fmt,\n\u001b[32m   1013\u001b[39m )\n\u001b[32m-> \u001b[39m\u001b[32m1014\u001b[39m \u001b[43mcsv_formatter\u001b[49m\u001b[43m.\u001b[49m\u001b[43msave\u001b[49m\u001b[43m(\u001b[49m\u001b[43m)\u001b[49m\n\u001b[32m   1016\u001b[39m \u001b[38;5;28;01mif\u001b[39;00m created_buffer:\n\u001b[32m   1017\u001b[39m     \u001b[38;5;28;01massert\u001b[39;00m \u001b[38;5;28misinstance\u001b[39m(path_or_buf, StringIO)\n",
      "\u001b[36mFile \u001b[39m\u001b[32m/opt/conda/lib/python3.12/site-packages/pandas/io/formats/csvs.py:251\u001b[39m, in \u001b[36mCSVFormatter.save\u001b[39m\u001b[34m(self)\u001b[39m\n\u001b[32m    247\u001b[39m \u001b[38;5;250m\u001b[39m\u001b[33;03m\"\"\"\u001b[39;00m\n\u001b[32m    248\u001b[39m \u001b[33;03mCreate the writer & save.\u001b[39;00m\n\u001b[32m    249\u001b[39m \u001b[33;03m\"\"\"\u001b[39;00m\n\u001b[32m    250\u001b[39m \u001b[38;5;66;03m# apply compression and byte/text conversion\u001b[39;00m\n\u001b[32m--> \u001b[39m\u001b[32m251\u001b[39m \u001b[38;5;28;01mwith\u001b[39;00m \u001b[43mget_handle\u001b[49m\u001b[43m(\u001b[49m\n\u001b[32m    252\u001b[39m \u001b[43m    \u001b[49m\u001b[38;5;28;43mself\u001b[39;49m\u001b[43m.\u001b[49m\u001b[43mfilepath_or_buffer\u001b[49m\u001b[43m,\u001b[49m\n\u001b[32m    253\u001b[39m \u001b[43m    \u001b[49m\u001b[38;5;28;43mself\u001b[39;49m\u001b[43m.\u001b[49m\u001b[43mmode\u001b[49m\u001b[43m,\u001b[49m\n\u001b[32m    254\u001b[39m \u001b[43m    \u001b[49m\u001b[43mencoding\u001b[49m\u001b[43m=\u001b[49m\u001b[38;5;28;43mself\u001b[39;49m\u001b[43m.\u001b[49m\u001b[43mencoding\u001b[49m\u001b[43m,\u001b[49m\n\u001b[32m    255\u001b[39m \u001b[43m    \u001b[49m\u001b[43merrors\u001b[49m\u001b[43m=\u001b[49m\u001b[38;5;28;43mself\u001b[39;49m\u001b[43m.\u001b[49m\u001b[43merrors\u001b[49m\u001b[43m,\u001b[49m\n\u001b[32m    256\u001b[39m \u001b[43m    \u001b[49m\u001b[43mcompression\u001b[49m\u001b[43m=\u001b[49m\u001b[38;5;28;43mself\u001b[39;49m\u001b[43m.\u001b[49m\u001b[43mcompression\u001b[49m\u001b[43m,\u001b[49m\n\u001b[32m    257\u001b[39m \u001b[43m    \u001b[49m\u001b[43mstorage_options\u001b[49m\u001b[43m=\u001b[49m\u001b[38;5;28;43mself\u001b[39;49m\u001b[43m.\u001b[49m\u001b[43mstorage_options\u001b[49m\u001b[43m,\u001b[49m\n\u001b[32m    258\u001b[39m \u001b[43m\u001b[49m\u001b[43m)\u001b[49m \u001b[38;5;28;01mas\u001b[39;00m handles:\n\u001b[32m    259\u001b[39m     \u001b[38;5;66;03m# Note: self.encoding is irrelevant here\u001b[39;00m\n\u001b[32m    260\u001b[39m     \u001b[38;5;28mself\u001b[39m.writer = csvlib.writer(\n\u001b[32m    261\u001b[39m         handles.handle,\n\u001b[32m    262\u001b[39m         lineterminator=\u001b[38;5;28mself\u001b[39m.lineterminator,\n\u001b[32m   (...)\u001b[39m\u001b[32m    267\u001b[39m         quotechar=\u001b[38;5;28mself\u001b[39m.quotechar,\n\u001b[32m    268\u001b[39m     )\n\u001b[32m    270\u001b[39m     \u001b[38;5;28mself\u001b[39m._save()\n",
      "\u001b[36mFile \u001b[39m\u001b[32m/opt/conda/lib/python3.12/site-packages/pandas/io/common.py:749\u001b[39m, in \u001b[36mget_handle\u001b[39m\u001b[34m(path_or_buf, mode, encoding, compression, memory_map, is_text, errors, storage_options)\u001b[39m\n\u001b[32m    747\u001b[39m \u001b[38;5;66;03m# Only for write methods\u001b[39;00m\n\u001b[32m    748\u001b[39m \u001b[38;5;28;01mif\u001b[39;00m \u001b[33m\"\u001b[39m\u001b[33mr\u001b[39m\u001b[33m\"\u001b[39m \u001b[38;5;129;01mnot\u001b[39;00m \u001b[38;5;129;01min\u001b[39;00m mode \u001b[38;5;129;01mand\u001b[39;00m is_path:\n\u001b[32m--> \u001b[39m\u001b[32m749\u001b[39m     \u001b[43mcheck_parent_directory\u001b[49m\u001b[43m(\u001b[49m\u001b[38;5;28;43mstr\u001b[39;49m\u001b[43m(\u001b[49m\u001b[43mhandle\u001b[49m\u001b[43m)\u001b[49m\u001b[43m)\u001b[49m\n\u001b[32m    751\u001b[39m \u001b[38;5;28;01mif\u001b[39;00m compression:\n\u001b[32m    752\u001b[39m     \u001b[38;5;28;01mif\u001b[39;00m compression != \u001b[33m\"\u001b[39m\u001b[33mzstd\u001b[39m\u001b[33m\"\u001b[39m:\n\u001b[32m    753\u001b[39m         \u001b[38;5;66;03m# compression libraries do not like an explicit text-mode\u001b[39;00m\n",
      "\u001b[36mFile \u001b[39m\u001b[32m/opt/conda/lib/python3.12/site-packages/pandas/io/common.py:616\u001b[39m, in \u001b[36mcheck_parent_directory\u001b[39m\u001b[34m(path)\u001b[39m\n\u001b[32m    614\u001b[39m parent = Path(path).parent\n\u001b[32m    615\u001b[39m \u001b[38;5;28;01mif\u001b[39;00m \u001b[38;5;129;01mnot\u001b[39;00m parent.is_dir():\n\u001b[32m--> \u001b[39m\u001b[32m616\u001b[39m     \u001b[38;5;28;01mraise\u001b[39;00m \u001b[38;5;167;01mOSError\u001b[39;00m(\u001b[33mrf\u001b[39m\u001b[33m\"\u001b[39m\u001b[33mCannot save file into a non-existent directory: \u001b[39m\u001b[33m'\u001b[39m\u001b[38;5;132;01m{\u001b[39;00mparent\u001b[38;5;132;01m}\u001b[39;00m\u001b[33m'\u001b[39m\u001b[33m\"\u001b[39m)\n",
      "\u001b[31mOSError\u001b[39m: Cannot save file into a non-existent directory: 'me204-2025-midterm-theaw3275'"
     ]
    }
   ],
   "source": [
    "csv_path = \"data/rain_data_2024.csv\"\n",
    "df.to_csv(csv_path, index=True)\n",
    "print(f\"Clean data saved to {csv_path}\")"
   ]
  },
  {
   "cell_type": "code",
   "execution_count": null,
   "id": "58c38524",
   "metadata": {},
   "outputs": [],
   "source": []
  }
 ],
 "metadata": {
  "kernelspec": {
   "display_name": "base",
   "language": "python",
   "name": "python3"
  },
  "language_info": {
   "codemirror_mode": {
    "name": "ipython",
    "version": 3
   },
   "file_extension": ".py",
   "mimetype": "text/x-python",
   "name": "python",
   "nbconvert_exporter": "python",
   "pygments_lexer": "ipython3",
   "version": "3.12.10"
  }
 },
 "nbformat": 4,
 "nbformat_minor": 5
}
