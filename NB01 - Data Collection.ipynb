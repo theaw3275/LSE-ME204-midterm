{
 "cells": [
  {
   "cell_type": "markdown",
   "id": "2edce5bf",
   "metadata": {},
   "source": [
    "# NB01 - Data Collection\n",
    "**Author:** Thea West\n",
    "\n",
    "**Description:**\n",
    "\n",
    "This notebook walks through the process of collecting, cleaning, and compiling weather data from 5 cities into one CSV file. The data is sourced from [Open Meteo](https://open-meteo.com/en/docs/historical-weather-api) and the JSON files from each city are converted to Pandas dataframes. A column is added for city name and the dates are changed to datetime format. Finally the five dataframes are concatenated into one and saved to a CSV file in the data folder.\n"
   ]
  },
  {
   "cell_type": "code",
   "execution_count": null,
   "id": "15cd1e62",
   "metadata": {},
   "outputs": [],
   "source": [
    "import pandas as pd\n",
    "import requests\n",
    "import json"
   ]
  },
  {
   "cell_type": "markdown",
   "id": "052f9ec7",
   "metadata": {},
   "source": [
    "## Data Collection"
   ]
  },
  {
   "cell_type": "markdown",
   "id": "4f6972e4",
   "metadata": {},
   "source": [
    "I will compare London to four other capital cities in the general geographic area: Dublin, Paris, Brussels, and Amsterdam. All of these cities are within about 350 miles of London and have a relatively similar climate. As far as I am aware, these cities do not have quite the same reputation for rain as London.\n",
    "\n",
    "I will compare the raininess of these cities for the year 2024 as this is recent data which spans all seasons throughout the year. \n",
    "\n",
    "I will use rain sum (millimeters of rain in a day) and precipitation hours (number of hours it rained in a day). These two measurements will account for two possible measures of raininess: actual volume of rain fallen and amount of time it rains. I will compare both with the other cities to see if London is truly ranier. "
   ]
  },
  {
   "cell_type": "markdown",
   "id": "1dfa491d",
   "metadata": {},
   "source": [
    "Start by setting the paramaters for which data to fetch:"
   ]
  },
  {
   "cell_type": "code",
   "execution_count": 2,
   "id": "5d3f78da",
   "metadata": {},
   "outputs": [],
   "source": [
    "url_endpoint = \"https://archive-api.open-meteo.com/v1/archive\"\n",
    "params = {\n",
    "    \"latitude\": [51.5085, 48.8534, 50.8505, 52.374, 53.3331],\n",
    "    \"longitude\": [-0.1257, 2.3488, 4.3488, 4.8897, -6.2489],\n",
    "\t\"start_date\": \"2024-01-01\",\n",
    "\t\"end_date\": \"2024-12-31\",\n",
    "\t\"daily\": \"rain_sum,precipitation_hours\",\n",
    "    \"timezone\": [\"Europe/London\", \"Europe/Berlin\", \"Europe/Berlin\", \"Europe/Berlin\", \"Europe/London\"]\n",
    "}"
   ]
  },
  {
   "cell_type": "markdown",
   "id": "86bc1f00",
   "metadata": {},
   "source": [
    "Fetch the data and check if it was successful:"
   ]
  },
  {
   "cell_type": "code",
   "execution_count": 3,
   "id": "97680b1d",
   "metadata": {},
   "outputs": [
    {
     "name": "stdout",
     "output_type": "stream",
     "text": [
      "Success\n"
     ]
    }
   ],
   "source": [
    "response = requests.get(url_endpoint, params=params)\n",
    "\n",
    "if response.status_code == 200:\n",
    "    print(f\"Success\")\n",
    "else:\n",
    "    print(f\"Failure! Status code: {response.status_code}\")"
   ]
  },
  {
   "cell_type": "markdown",
   "id": "ea0775aa",
   "metadata": {},
   "source": [
    "Store the raw data responses as a json:"
   ]
  },
  {
   "cell_type": "code",
   "execution_count": 4,
   "id": "d012228e",
   "metadata": {},
   "outputs": [],
   "source": [
    "raw_data = response.json()"
   ]
  },
  {
   "cell_type": "markdown",
   "id": "11cd07f1",
   "metadata": {},
   "source": [
    "## Convert to Pandas Dataframe and Clean"
   ]
  },
  {
   "cell_type": "markdown",
   "id": "2180cc76",
   "metadata": {},
   "source": [
    "Convert json to a pandas dataframe:"
   ]
  },
  {
   "cell_type": "code",
   "execution_count": 34,
   "id": "257aeeb2",
   "metadata": {},
   "outputs": [],
   "source": [
    "lat_long_df = pd.DataFrame(raw_data)"
   ]
  },
  {
   "cell_type": "markdown",
   "id": "093f7bc6",
   "metadata": {},
   "source": [
    "Add a column specifying the city:"
   ]
  },
  {
   "cell_type": "code",
   "execution_count": 35,
   "id": "7a94e982",
   "metadata": {},
   "outputs": [],
   "source": [
    "# This works because I know what order the cities were read in. \n",
    "# If different cities were added or in a different order, this would need to change\n",
    "cities = [\"London\", \"Paris\", \"Brussels\", \"Amsterdam\", \"Dublin\"]\n",
    "lat_long_df = lat_long_df.assign(city = cities)"
   ]
  },
  {
   "cell_type": "markdown",
   "id": "b9c72834",
   "metadata": {},
   "source": [
    "Get the `daily` data into the rows:"
   ]
  },
  {
   "cell_type": "code",
   "execution_count": null,
   "id": "67f4dc65",
   "metadata": {},
   "outputs": [
    {
     "data": {
      "text/html": [
       "<div>\n",
       "<style scoped>\n",
       "    .dataframe tbody tr th:only-of-type {\n",
       "        vertical-align: middle;\n",
       "    }\n",
       "\n",
       "    .dataframe tbody tr th {\n",
       "        vertical-align: top;\n",
       "    }\n",
       "\n",
       "    .dataframe thead th {\n",
       "        text-align: right;\n",
       "    }\n",
       "</style>\n",
       "<table border=\"1\" class=\"dataframe\">\n",
       "  <thead>\n",
       "    <tr style=\"text-align: right;\">\n",
       "      <th></th>\n",
       "      <th>time</th>\n",
       "      <th>rain_sum</th>\n",
       "      <th>precipitation_hours</th>\n",
       "      <th>city</th>\n",
       "    </tr>\n",
       "  </thead>\n",
       "  <tbody>\n",
       "    <tr>\n",
       "      <th>0</th>\n",
       "      <td>2024-01-01</td>\n",
       "      <td>8.3</td>\n",
       "      <td>8.0</td>\n",
       "      <td>London</td>\n",
       "    </tr>\n",
       "    <tr>\n",
       "      <th>1</th>\n",
       "      <td>2024-01-02</td>\n",
       "      <td>9.6</td>\n",
       "      <td>11.0</td>\n",
       "      <td>London</td>\n",
       "    </tr>\n",
       "    <tr>\n",
       "      <th>2</th>\n",
       "      <td>2024-01-03</td>\n",
       "      <td>2.3</td>\n",
       "      <td>6.0</td>\n",
       "      <td>London</td>\n",
       "    </tr>\n",
       "    <tr>\n",
       "      <th>3</th>\n",
       "      <td>2024-01-04</td>\n",
       "      <td>27.7</td>\n",
       "      <td>8.0</td>\n",
       "      <td>London</td>\n",
       "    </tr>\n",
       "    <tr>\n",
       "      <th>4</th>\n",
       "      <td>2024-01-05</td>\n",
       "      <td>4.6</td>\n",
       "      <td>8.0</td>\n",
       "      <td>London</td>\n",
       "    </tr>\n",
       "    <tr>\n",
       "      <th>...</th>\n",
       "      <td>...</td>\n",
       "      <td>...</td>\n",
       "      <td>...</td>\n",
       "      <td>...</td>\n",
       "    </tr>\n",
       "    <tr>\n",
       "      <th>1825</th>\n",
       "      <td>2024-12-27</td>\n",
       "      <td>0.0</td>\n",
       "      <td>0.0</td>\n",
       "      <td>Dublin</td>\n",
       "    </tr>\n",
       "    <tr>\n",
       "      <th>1826</th>\n",
       "      <td>2024-12-28</td>\n",
       "      <td>0.0</td>\n",
       "      <td>0.0</td>\n",
       "      <td>Dublin</td>\n",
       "    </tr>\n",
       "    <tr>\n",
       "      <th>1827</th>\n",
       "      <td>2024-12-29</td>\n",
       "      <td>0.0</td>\n",
       "      <td>0.0</td>\n",
       "      <td>Dublin</td>\n",
       "    </tr>\n",
       "    <tr>\n",
       "      <th>1828</th>\n",
       "      <td>2024-12-30</td>\n",
       "      <td>0.0</td>\n",
       "      <td>0.0</td>\n",
       "      <td>Dublin</td>\n",
       "    </tr>\n",
       "    <tr>\n",
       "      <th>1829</th>\n",
       "      <td>2024-12-31</td>\n",
       "      <td>12.2</td>\n",
       "      <td>16.0</td>\n",
       "      <td>Dublin</td>\n",
       "    </tr>\n",
       "  </tbody>\n",
       "</table>\n",
       "<p>1830 rows × 4 columns</p>\n",
       "</div>"
      ],
      "text/plain": [
       "            time  rain_sum  precipitation_hours    city\n",
       "0     2024-01-01       8.3                  8.0  London\n",
       "1     2024-01-02       9.6                 11.0  London\n",
       "2     2024-01-03       2.3                  6.0  London\n",
       "3     2024-01-04      27.7                  8.0  London\n",
       "4     2024-01-05       4.6                  8.0  London\n",
       "...          ...       ...                  ...     ...\n",
       "1825  2024-12-27       0.0                  0.0  Dublin\n",
       "1826  2024-12-28       0.0                  0.0  Dublin\n",
       "1827  2024-12-29       0.0                  0.0  Dublin\n",
       "1828  2024-12-30       0.0                  0.0  Dublin\n",
       "1829  2024-12-31      12.2                 16.0  Dublin\n",
       "\n",
       "[1830 rows x 4 columns]"
      ]
     },
     "execution_count": 36,
     "metadata": {},
     "output_type": "execute_result"
    }
   ],
   "source": [
    "# list to store each 'daily' df\n",
    "list_of_daily_dfs = []\n",
    "# iterate through each row in the lat_long_df\n",
    "for _, row in lat_long_df.iterrows():\n",
    "    # make a df of just this city's daily data\n",
    "    temp = pd.DataFrame(row['daily'])\n",
    "    # tag it with city \n",
    "    temp['city'] = row['city']\n",
    "    list_of_daily_dfs.append(temp)\n",
    "\n",
    "# stitch all five cities’ daily dfs into one big df\n",
    "df = pd.concat(list_of_daily_dfs, ignore_index=True)\n",
    "df"
   ]
  },
  {
   "cell_type": "markdown",
   "id": "f94d1f43",
   "metadata": {},
   "source": [
    "Change the items in the `time` column to datetime objects:"
   ]
  },
  {
   "cell_type": "code",
   "execution_count": 37,
   "id": "1ca00f41",
   "metadata": {},
   "outputs": [],
   "source": [
    "df['time'] = pd.to_datetime(df['time'], format='ISO8601')"
   ]
  },
  {
   "cell_type": "markdown",
   "id": "fa5ba5e1",
   "metadata": {},
   "source": [
    "For initial analysis of the data I may want a count of \"rainy days.\" I will define a \"rainy day\" as having either at least 2.5 mm of rainfall or at least 4 hours of rain. \n",
    "\n",
    "Create a column which defines each day as \"rainy\" (True) or \"not rainy\" (False):"
   ]
  },
  {
   "cell_type": "code",
   "execution_count": 41,
   "id": "8457a4c8",
   "metadata": {},
   "outputs": [
    {
     "data": {
      "text/html": [
       "<div>\n",
       "<style scoped>\n",
       "    .dataframe tbody tr th:only-of-type {\n",
       "        vertical-align: middle;\n",
       "    }\n",
       "\n",
       "    .dataframe tbody tr th {\n",
       "        vertical-align: top;\n",
       "    }\n",
       "\n",
       "    .dataframe thead th {\n",
       "        text-align: right;\n",
       "    }\n",
       "</style>\n",
       "<table border=\"1\" class=\"dataframe\">\n",
       "  <thead>\n",
       "    <tr style=\"text-align: right;\">\n",
       "      <th></th>\n",
       "      <th>time</th>\n",
       "      <th>rain_sum</th>\n",
       "      <th>precipitation_hours</th>\n",
       "      <th>city</th>\n",
       "      <th>rainy_day</th>\n",
       "    </tr>\n",
       "  </thead>\n",
       "  <tbody>\n",
       "    <tr>\n",
       "      <th>0</th>\n",
       "      <td>2024-01-01</td>\n",
       "      <td>8.3</td>\n",
       "      <td>8.0</td>\n",
       "      <td>London</td>\n",
       "      <td>True</td>\n",
       "    </tr>\n",
       "    <tr>\n",
       "      <th>1</th>\n",
       "      <td>2024-01-02</td>\n",
       "      <td>9.6</td>\n",
       "      <td>11.0</td>\n",
       "      <td>London</td>\n",
       "      <td>True</td>\n",
       "    </tr>\n",
       "    <tr>\n",
       "      <th>2</th>\n",
       "      <td>2024-01-03</td>\n",
       "      <td>2.3</td>\n",
       "      <td>6.0</td>\n",
       "      <td>London</td>\n",
       "      <td>True</td>\n",
       "    </tr>\n",
       "    <tr>\n",
       "      <th>3</th>\n",
       "      <td>2024-01-04</td>\n",
       "      <td>27.7</td>\n",
       "      <td>8.0</td>\n",
       "      <td>London</td>\n",
       "      <td>True</td>\n",
       "    </tr>\n",
       "    <tr>\n",
       "      <th>4</th>\n",
       "      <td>2024-01-05</td>\n",
       "      <td>4.6</td>\n",
       "      <td>8.0</td>\n",
       "      <td>London</td>\n",
       "      <td>True</td>\n",
       "    </tr>\n",
       "    <tr>\n",
       "      <th>...</th>\n",
       "      <td>...</td>\n",
       "      <td>...</td>\n",
       "      <td>...</td>\n",
       "      <td>...</td>\n",
       "      <td>...</td>\n",
       "    </tr>\n",
       "    <tr>\n",
       "      <th>1825</th>\n",
       "      <td>2024-12-27</td>\n",
       "      <td>0.0</td>\n",
       "      <td>0.0</td>\n",
       "      <td>Dublin</td>\n",
       "      <td>False</td>\n",
       "    </tr>\n",
       "    <tr>\n",
       "      <th>1826</th>\n",
       "      <td>2024-12-28</td>\n",
       "      <td>0.0</td>\n",
       "      <td>0.0</td>\n",
       "      <td>Dublin</td>\n",
       "      <td>False</td>\n",
       "    </tr>\n",
       "    <tr>\n",
       "      <th>1827</th>\n",
       "      <td>2024-12-29</td>\n",
       "      <td>0.0</td>\n",
       "      <td>0.0</td>\n",
       "      <td>Dublin</td>\n",
       "      <td>False</td>\n",
       "    </tr>\n",
       "    <tr>\n",
       "      <th>1828</th>\n",
       "      <td>2024-12-30</td>\n",
       "      <td>0.0</td>\n",
       "      <td>0.0</td>\n",
       "      <td>Dublin</td>\n",
       "      <td>False</td>\n",
       "    </tr>\n",
       "    <tr>\n",
       "      <th>1829</th>\n",
       "      <td>2024-12-31</td>\n",
       "      <td>12.2</td>\n",
       "      <td>16.0</td>\n",
       "      <td>Dublin</td>\n",
       "      <td>True</td>\n",
       "    </tr>\n",
       "  </tbody>\n",
       "</table>\n",
       "<p>1830 rows × 5 columns</p>\n",
       "</div>"
      ],
      "text/plain": [
       "           time  rain_sum  precipitation_hours    city  rainy_day\n",
       "0    2024-01-01       8.3                  8.0  London       True\n",
       "1    2024-01-02       9.6                 11.0  London       True\n",
       "2    2024-01-03       2.3                  6.0  London       True\n",
       "3    2024-01-04      27.7                  8.0  London       True\n",
       "4    2024-01-05       4.6                  8.0  London       True\n",
       "...         ...       ...                  ...     ...        ...\n",
       "1825 2024-12-27       0.0                  0.0  Dublin      False\n",
       "1826 2024-12-28       0.0                  0.0  Dublin      False\n",
       "1827 2024-12-29       0.0                  0.0  Dublin      False\n",
       "1828 2024-12-30       0.0                  0.0  Dublin      False\n",
       "1829 2024-12-31      12.2                 16.0  Dublin       True\n",
       "\n",
       "[1830 rows x 5 columns]"
      ]
     },
     "execution_count": 41,
     "metadata": {},
     "output_type": "execute_result"
    }
   ],
   "source": [
    "df = df.assign(rainy_day = (df['rain_sum'] >= 2.5) | (df['precipitation_hours'] >= 4.0))\n",
    "df"
   ]
  },
  {
   "cell_type": "markdown",
   "id": "5b88fe78",
   "metadata": {},
   "source": [
    "## Save Dataframe as a CSV"
   ]
  },
  {
   "cell_type": "markdown",
   "id": "f5481e3f",
   "metadata": {},
   "source": [
    "The CSV is created and saved in the proper location in the code block below:"
   ]
  },
  {
   "cell_type": "code",
   "execution_count": null,
   "id": "7f9b3fae",
   "metadata": {},
   "outputs": [
    {
     "name": "stdout",
     "output_type": "stream",
     "text": [
      "Clean data saved to data/rain_data_2024.csv\n"
     ]
    }
   ],
   "source": [
    "csv_path = \"data/rain_data_2024.csv\"\n",
    "df.to_csv(csv_path, index=False)\n",
    "print(f\"Clean data saved to {csv_path}\")"
   ]
  }
 ],
 "metadata": {
  "kernelspec": {
   "display_name": "base",
   "language": "python",
   "name": "python3"
  },
  "language_info": {
   "codemirror_mode": {
    "name": "ipython",
    "version": 3
   },
   "file_extension": ".py",
   "mimetype": "text/x-python",
   "name": "python",
   "nbconvert_exporter": "python",
   "pygments_lexer": "ipython3",
   "version": "3.12.10"
  }
 },
 "nbformat": 4,
 "nbformat_minor": 5
}
