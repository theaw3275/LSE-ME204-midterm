{
 "cells": [
  {
   "cell_type": "markdown",
   "id": "2edce5bf",
   "metadata": {},
   "source": [
    "# NB01 - Data Collection\n",
    "**Author:** Thea West\n",
    "\n",
    "**Description:**\n",
    "\n",
    "This notebook walks through the process of collecting, cleaning, and compiling weather data from 5 cities into one CSV file. The data is sourced from [Open Meteo](https://open-meteo.com/en/docs/historical-weather-api) and the JSON files from each city are converted to Pandas dataframes. A column is added for city name and the dates are changed to datetime format. Finally the five dataframes are concatenated into one and saved to a CSV file in the data folder.\n"
   ]
  },
  {
   "cell_type": "code",
   "execution_count": 2,
   "id": "15cd1e62",
   "metadata": {},
   "outputs": [],
   "source": [
    "import pandas as pd\n",
    "import requests\n",
    "import json\n",
    "import os"
   ]
  },
  {
   "cell_type": "markdown",
   "id": "052f9ec7",
   "metadata": {},
   "source": [
    "## Data Collection"
   ]
  },
  {
   "cell_type": "markdown",
   "id": "4f6972e4",
   "metadata": {},
   "source": [
    "I will compare London to four other capital cities in the general geographic area: Dublin, Paris, Brussels, and Amsterdam. All of these cities are within about 350 miles of London and have a relatively similar climate. As far as I am aware, these cities do not have the same reputation for rain as London.\n",
    "\n",
    "I will compare the raininess of these cities for the year 2024 as this is recent data which spans all seasons throughout the year. \n",
    "\n",
    "I will use rain sum (millimeters of rain in a day) and precipitation hours (number of hours it rained in a day). These two measurements will account for two possible measures of raininess: actual volume of rainfall and amount of time it rains. I will compare both with the other cities to see if London is truly ranier. If it is only rainier by one measurement, that may point to how the general public percieves raininess and, by extension, how London got its reputation."
   ]
  },
  {
   "cell_type": "markdown",
   "id": "1dfa491d",
   "metadata": {},
   "source": [
    "Start by setting the paramaters for which data to fetch for each city:"
   ]
  },
  {
   "cell_type": "code",
   "execution_count": 3,
   "id": "b0ce6461",
   "metadata": {},
   "outputs": [],
   "source": [
    "url_endpoint = \"https://archive-api.open-meteo.com/v1/archive\"\n",
    "london_params = {\n",
    "    \"latitude\": 51.5085,\n",
    "    \"longitude\": -0.1257,\n",
    "\t\"start_date\": \"2024-01-01\",\n",
    "\t\"end_date\": \"2024-12-31\",\n",
    "\t\"daily\": \"rain_sum,precipitation_hours\",\n",
    "    \"timezone\": \"Europe/London\"\n",
    "}\n",
    "paris_params = {\n",
    "    \"latitude\": 48.8534,\n",
    "    \"longitude\": 2.3488,\n",
    "\t\"start_date\": \"2024-01-01\",\n",
    "\t\"end_date\": \"2024-12-31\",\n",
    "\t\"daily\": \"rain_sum,precipitation_hours\", \n",
    "    \"timezone\": \"Europe/Berlin\"\n",
    "}\n",
    "brussels_params = {\n",
    "    \"latitude\": 50.8505,\n",
    "    \"longitude\": 4.3488,\n",
    "\t\"start_date\": \"2024-01-01\",\n",
    "\t\"end_date\": \"2024-12-31\",\n",
    "\t\"daily\": \"rain_sum,precipitation_hours\", \n",
    "    \"timezone\": \"Europe/Berlin\"\n",
    "}\n",
    "amsterdam_params = {\n",
    "    \"latitude\": 52.374,\n",
    "    \"longitude\": 4.8897,\n",
    "\t\"start_date\": \"2024-01-01\",\n",
    "\t\"end_date\": \"2024-12-31\",\n",
    "\t\"daily\": \"rain_sum,precipitation_hours\", \n",
    "    \"timezone\": \"Europe/Berlin\"\n",
    "}\n",
    "dublin_params = {\n",
    "    \"latitude\": 53.3331,\n",
    "    \"longitude\": -6.2489,\n",
    "\t\"start_date\": \"2024-01-01\",\n",
    "\t\"end_date\": \"2024-12-31\",\n",
    "\t\"daily\": \"rain_sum,precipitation_hours\", \n",
    "    \"timezone\": \"Europe/London\"\n",
    "}"
   ]
  },
  {
   "cell_type": "markdown",
   "id": "86bc1f00",
   "metadata": {},
   "source": [
    "Fetch the data and check if it was successful:"
   ]
  },
  {
   "cell_type": "code",
   "execution_count": 4,
   "id": "25de2a4d",
   "metadata": {},
   "outputs": [
    {
     "name": "stdout",
     "output_type": "stream",
     "text": [
      "London: Success\n",
      "Paris: Success\n",
      "Brussels: Success\n",
      "Amsterdam: Success\n",
      "Dublin: Success\n"
     ]
    }
   ],
   "source": [
    "response_london = requests.get(url_endpoint, params=london_params)\n",
    "response_paris = requests.get(url_endpoint, params=paris_params)\n",
    "response_brussels = requests.get(url_endpoint, params=brussels_params)\n",
    "response_amsterdam = requests.get(url_endpoint, params=amsterdam_params)\n",
    "response_dublin = requests.get(url_endpoint, params=dublin_params)\n",
    "\n",
    "cities = [[\"London\", response_london], [\"Paris\", response_paris], [\"Brussels\", response_brussels], [\"Amsterdam\", response_amsterdam], [\"Dublin\", response_dublin]]\n",
    "for city in cities:\n",
    "    if city[1].status_code == 200:\n",
    "        print(f\"{city[0]}: Success\")\n",
    "    else:\n",
    "        print(f\"{city[0]}: Failure! Status code: {city[1].status_code}\")"
   ]
  },
  {
   "cell_type": "markdown",
   "id": "ea0775aa",
   "metadata": {},
   "source": [
    "Store the raw data responses as a jsons:"
   ]
  },
  {
   "cell_type": "code",
   "execution_count": 5,
   "id": "fa3a1594",
   "metadata": {},
   "outputs": [],
   "source": [
    "raw_data_london = response_london.json()\n",
    "raw_data_paris = response_paris.json()\n",
    "raw_data_brussels = response_brussels.json()\n",
    "raw_data_amsterdam = response_amsterdam.json()\n",
    "raw_data_dublin = response_dublin.json()"
   ]
  },
  {
   "cell_type": "markdown",
   "id": "11cd07f1",
   "metadata": {},
   "source": [
    "## Convert to Pandas Dataframe and Clean"
   ]
  },
  {
   "cell_type": "markdown",
   "id": "2180cc76",
   "metadata": {},
   "source": [
    "Convert each json to a pandas dataframe:"
   ]
  },
  {
   "cell_type": "code",
   "execution_count": 6,
   "id": "f8e4652d",
   "metadata": {},
   "outputs": [],
   "source": [
    "df_london = pd.DataFrame(raw_data_london['daily'])\n",
    "df_paris = pd.DataFrame(raw_data_paris['daily'])\n",
    "df_brussels = pd.DataFrame(raw_data_brussels['daily'])\n",
    "df_amsterdam = pd.DataFrame(raw_data_amsterdam['daily'])\n",
    "df_dublin = pd.DataFrame(raw_data_dublin['daily'])"
   ]
  },
  {
   "cell_type": "markdown",
   "id": "093f7bc6",
   "metadata": {},
   "source": [
    "Add a column to each dataframe specifying the city:"
   ]
  },
  {
   "cell_type": "code",
   "execution_count": 21,
   "id": "07f326df",
   "metadata": {},
   "outputs": [],
   "source": [
    "df_london['city'] = \"London\"\n",
    "df_paris['city'] = \"Paris\"\n",
    "df_brussels['city'] = \"Brussels\"\n",
    "df_amsterdam['city'] = \"Amsterdam\"\n",
    "df_dublin['city'] = \"Dublin\""
   ]
  },
  {
   "cell_type": "markdown",
   "id": "e60b8a72",
   "metadata": {},
   "source": [
    "Combine the dataframes into one and reset the index:"
   ]
  },
  {
   "cell_type": "code",
   "execution_count": 22,
   "id": "96680d19",
   "metadata": {},
   "outputs": [],
   "source": [
    "df = pd.concat([df_london, df_paris, df_brussels, df_amsterdam, df_dublin]).reset_index(drop=True)"
   ]
  },
  {
   "cell_type": "markdown",
   "id": "f94d1f43",
   "metadata": {},
   "source": [
    "Change the items in the `time` column to datetime objects:"
   ]
  },
  {
   "cell_type": "code",
   "execution_count": 23,
   "id": "1ca00f41",
   "metadata": {},
   "outputs": [],
   "source": [
    "df['time'] = pd.to_datetime(df['time'], format='ISO8601')"
   ]
  },
  {
   "cell_type": "markdown",
   "id": "fa5ba5e1",
   "metadata": {},
   "source": [
    "For initial analysis of the data I may want a count of \"rainy days.\" I will define a \"rainy day\" as having either at least 2.5 mm of rainfall or at least 4 hours of rain. \n",
    "\n",
    "Create a column which defines each day as \"rainy\" (True) or \"not rainy\" (False):"
   ]
  },
  {
   "cell_type": "code",
   "execution_count": 24,
   "id": "dfd2b5d7",
   "metadata": {},
   "outputs": [
    {
     "data": {
      "text/html": [
       "<div>\n",
       "<style scoped>\n",
       "    .dataframe tbody tr th:only-of-type {\n",
       "        vertical-align: middle;\n",
       "    }\n",
       "\n",
       "    .dataframe tbody tr th {\n",
       "        vertical-align: top;\n",
       "    }\n",
       "\n",
       "    .dataframe thead th {\n",
       "        text-align: right;\n",
       "    }\n",
       "</style>\n",
       "<table border=\"1\" class=\"dataframe\">\n",
       "  <thead>\n",
       "    <tr style=\"text-align: right;\">\n",
       "      <th></th>\n",
       "      <th>time</th>\n",
       "      <th>rain_sum</th>\n",
       "      <th>precipitation_hours</th>\n",
       "      <th>city</th>\n",
       "      <th>rainy_day</th>\n",
       "    </tr>\n",
       "  </thead>\n",
       "  <tbody>\n",
       "    <tr>\n",
       "      <th>0</th>\n",
       "      <td>2024-01-01</td>\n",
       "      <td>8.3</td>\n",
       "      <td>8.0</td>\n",
       "      <td>London</td>\n",
       "      <td>True</td>\n",
       "    </tr>\n",
       "    <tr>\n",
       "      <th>1</th>\n",
       "      <td>2024-01-02</td>\n",
       "      <td>9.6</td>\n",
       "      <td>11.0</td>\n",
       "      <td>London</td>\n",
       "      <td>True</td>\n",
       "    </tr>\n",
       "    <tr>\n",
       "      <th>2</th>\n",
       "      <td>2024-01-03</td>\n",
       "      <td>2.3</td>\n",
       "      <td>6.0</td>\n",
       "      <td>London</td>\n",
       "      <td>True</td>\n",
       "    </tr>\n",
       "    <tr>\n",
       "      <th>3</th>\n",
       "      <td>2024-01-04</td>\n",
       "      <td>27.7</td>\n",
       "      <td>8.0</td>\n",
       "      <td>London</td>\n",
       "      <td>True</td>\n",
       "    </tr>\n",
       "    <tr>\n",
       "      <th>4</th>\n",
       "      <td>2024-01-05</td>\n",
       "      <td>4.6</td>\n",
       "      <td>8.0</td>\n",
       "      <td>London</td>\n",
       "      <td>True</td>\n",
       "    </tr>\n",
       "    <tr>\n",
       "      <th>...</th>\n",
       "      <td>...</td>\n",
       "      <td>...</td>\n",
       "      <td>...</td>\n",
       "      <td>...</td>\n",
       "      <td>...</td>\n",
       "    </tr>\n",
       "    <tr>\n",
       "      <th>1825</th>\n",
       "      <td>2024-12-27</td>\n",
       "      <td>0.0</td>\n",
       "      <td>0.0</td>\n",
       "      <td>Dublin</td>\n",
       "      <td>False</td>\n",
       "    </tr>\n",
       "    <tr>\n",
       "      <th>1826</th>\n",
       "      <td>2024-12-28</td>\n",
       "      <td>0.0</td>\n",
       "      <td>0.0</td>\n",
       "      <td>Dublin</td>\n",
       "      <td>False</td>\n",
       "    </tr>\n",
       "    <tr>\n",
       "      <th>1827</th>\n",
       "      <td>2024-12-29</td>\n",
       "      <td>0.0</td>\n",
       "      <td>0.0</td>\n",
       "      <td>Dublin</td>\n",
       "      <td>False</td>\n",
       "    </tr>\n",
       "    <tr>\n",
       "      <th>1828</th>\n",
       "      <td>2024-12-30</td>\n",
       "      <td>0.0</td>\n",
       "      <td>0.0</td>\n",
       "      <td>Dublin</td>\n",
       "      <td>False</td>\n",
       "    </tr>\n",
       "    <tr>\n",
       "      <th>1829</th>\n",
       "      <td>2024-12-31</td>\n",
       "      <td>12.2</td>\n",
       "      <td>16.0</td>\n",
       "      <td>Dublin</td>\n",
       "      <td>True</td>\n",
       "    </tr>\n",
       "  </tbody>\n",
       "</table>\n",
       "<p>1830 rows × 5 columns</p>\n",
       "</div>"
      ],
      "text/plain": [
       "           time  rain_sum  precipitation_hours    city  rainy_day\n",
       "0    2024-01-01       8.3                  8.0  London       True\n",
       "1    2024-01-02       9.6                 11.0  London       True\n",
       "2    2024-01-03       2.3                  6.0  London       True\n",
       "3    2024-01-04      27.7                  8.0  London       True\n",
       "4    2024-01-05       4.6                  8.0  London       True\n",
       "...         ...       ...                  ...     ...        ...\n",
       "1825 2024-12-27       0.0                  0.0  Dublin      False\n",
       "1826 2024-12-28       0.0                  0.0  Dublin      False\n",
       "1827 2024-12-29       0.0                  0.0  Dublin      False\n",
       "1828 2024-12-30       0.0                  0.0  Dublin      False\n",
       "1829 2024-12-31      12.2                 16.0  Dublin       True\n",
       "\n",
       "[1830 rows x 5 columns]"
      ]
     },
     "execution_count": 24,
     "metadata": {},
     "output_type": "execute_result"
    }
   ],
   "source": [
    "rainy_day = []\n",
    "for i in range(len(df)):\n",
    "    if (df['rain_sum'][i] >= 2.5) or (df['precipitation_hours'][i] >= 4.0):\n",
    "        rainy_day.append(True)\n",
    "    else:\n",
    "        rainy_day.append(False)\n",
    "\n",
    "df['rainy_day'] = rainy_day\n",
    "df"
   ]
  },
  {
   "cell_type": "markdown",
   "id": "5b88fe78",
   "metadata": {},
   "source": [
    "## Save Dataframe as a CSV"
   ]
  },
  {
   "cell_type": "markdown",
   "id": "f5481e3f",
   "metadata": {},
   "source": [
    "Two commands from the os library are used to save the CSV to the data folder. \n",
    "\n",
    "```python\n",
    "os.makedirs(\"data\", exist_ok = True)\n",
    "```\n",
    "This line creates the data folder. The 'exist_ok=True' makes it so that if the folder already exists it will be used instead of throwing an error.\n",
    "\n",
    "\n",
    "```python\n",
    "csv_path = os.path.join(\"data\", \"rain_data_2024.csv\")\n",
    "```\n",
    "This line concatenates the \"data\" folder name with the file name. The csv_path is now `data` > `rain_data_2024.csv`\n",
    "\n",
    "The CSV is created and saved in the proper location in the code block below:"
   ]
  },
  {
   "cell_type": "code",
   "execution_count": 25,
   "id": "7f9b3fae",
   "metadata": {},
   "outputs": [
    {
     "name": "stdout",
     "output_type": "stream",
     "text": [
      "Clean data saved to data/rain_data_2024.csv\n"
     ]
    }
   ],
   "source": [
    "os.makedirs(\"data\", exist_ok = True)\n",
    "\n",
    "csv_path = os.path.join(\"data\", \"rain_data_2024.csv\")\n",
    "df.to_csv(csv_path, index=False)\n",
    "print(f\"Clean data saved to {csv_path}\")"
   ]
  },
  {
   "cell_type": "code",
   "execution_count": null,
   "id": "b45a697e",
   "metadata": {},
   "outputs": [],
   "source": []
  }
 ],
 "metadata": {
  "kernelspec": {
   "display_name": "base",
   "language": "python",
   "name": "python3"
  },
  "language_info": {
   "codemirror_mode": {
    "name": "ipython",
    "version": 3
   },
   "file_extension": ".py",
   "mimetype": "text/x-python",
   "name": "python",
   "nbconvert_exporter": "python",
   "pygments_lexer": "ipython3",
   "version": "3.12.10"
  }
 },
 "nbformat": 4,
 "nbformat_minor": 5
}
