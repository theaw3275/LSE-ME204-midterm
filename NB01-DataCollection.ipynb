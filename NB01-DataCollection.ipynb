{
 "cells": [
  {
   "cell_type": "markdown",
   "id": "2edce5bf",
   "metadata": {},
   "source": [
    "# NB01 - Data Collection\n",
    "**Author:** Thea West\n",
    "\n",
    "**Description:**\n",
    "\n",
    "*insert short description of the notebook here*\n"
   ]
  },
  {
   "cell_type": "markdown",
   "id": "8751c648",
   "metadata": {},
   "source": [
    "## Imports"
   ]
  },
  {
   "cell_type": "code",
   "execution_count": null,
   "id": "15cd1e62",
   "metadata": {},
   "outputs": [],
   "source": [
    "import pandas as pd\n",
    "import requests\n",
    "import json"
   ]
  },
  {
   "cell_type": "markdown",
   "id": "052f9ec7",
   "metadata": {},
   "source": [
    "## Data Collection"
   ]
  },
  {
   "cell_type": "markdown",
   "id": "4f6972e4",
   "metadata": {},
   "source": [
    "### TODO\n",
    "\n",
    "Justify Your Choices: In a Markdown cell, concisely explain why you chose your specific cities, time period, and variables. This justification is crucial. (Max 250 words)"
   ]
  },
  {
   "cell_type": "code",
   "execution_count": null,
   "id": "f252f659",
   "metadata": {},
   "outputs": [],
   "source": [
    "# Access open-meteo, collect data"
   ]
  },
  {
   "cell_type": "markdown",
   "id": "11cd07f1",
   "metadata": {},
   "source": [
    "## Convert to Pandas Dataframe and Clean"
   ]
  },
  {
   "cell_type": "code",
   "execution_count": null,
   "id": "f8e4652d",
   "metadata": {},
   "outputs": [],
   "source": [
    "# Convert to df, clean up"
   ]
  },
  {
   "cell_type": "markdown",
   "id": "5b88fe78",
   "metadata": {},
   "source": [
    "## Save Dataframe as a CSV\n",
    "\n",
    "### TODO\n",
    "\n",
    "Save the Data: At the end of the notebook, save your final, combined dataset as a single .csv file inside a data/ folder (e.g., data/rain_data.csv)."
   ]
  },
  {
   "cell_type": "code",
   "execution_count": 1,
   "id": "7076c311",
   "metadata": {},
   "outputs": [],
   "source": [
    "# Save as a csv"
   ]
  }
 ],
 "metadata": {
  "kernelspec": {
   "display_name": "base",
   "language": "python",
   "name": "python3"
  },
  "language_info": {
   "codemirror_mode": {
    "name": "ipython",
    "version": 3
   },
   "file_extension": ".py",
   "mimetype": "text/x-python",
   "name": "python",
   "nbconvert_exporter": "python",
   "pygments_lexer": "ipython3",
   "version": "3.12.10"
  }
 },
 "nbformat": 4,
 "nbformat_minor": 5
}
